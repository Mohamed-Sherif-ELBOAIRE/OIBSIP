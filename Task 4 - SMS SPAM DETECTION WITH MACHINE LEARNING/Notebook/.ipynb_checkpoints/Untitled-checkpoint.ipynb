{
 "cells": [
  {
   "cell_type": "markdown",
   "id": "38beb0f1",
   "metadata": {},
   "source": [
    "# InfoByte : Data Science Tasks"
   ]
  },
  {
   "cell_type": "code",
   "execution_count": null,
   "id": "d4328852",
   "metadata": {},
   "outputs": [],
   "source": []
  },
  {
   "cell_type": "markdown",
   "id": "9f1b4b3b",
   "metadata": {},
   "source": [
    "## Task 3 - CAR PRICE PREDICTION WITH MACHINE LEARNING\n"
   ]
  },
  {
   "cell_type": "markdown",
   "id": "e5426b5a",
   "metadata": {},
   "source": [
    "Target: From the Given Dataset, Model the price of cars with the available independent variables. It will be used by the management to understand how exactly the prices vary with the independent variables.\n"
   ]
  },
  {
   "cell_type": "markdown",
   "id": "9f32a2d6",
   "metadata": {},
   "source": [
    "## Author : Mohamed Sherif El-Boraie"
   ]
  },
  {
   "cell_type": "code",
   "execution_count": null,
   "id": "bd0b7a01",
   "metadata": {},
   "outputs": [],
   "source": []
  },
  {
   "cell_type": "code",
   "execution_count": null,
   "id": "343bfaec",
   "metadata": {},
   "outputs": [],
   "source": []
  },
  {
   "cell_type": "code",
   "execution_count": null,
   "id": "ea6be1df",
   "metadata": {},
   "outputs": [],
   "source": []
  },
  {
   "cell_type": "code",
   "execution_count": null,
   "id": "07aab02c",
   "metadata": {},
   "outputs": [],
   "source": []
  }
 ],
 "metadata": {
  "kernelspec": {
   "display_name": "pyai",
   "language": "python",
   "name": "pyai"
  },
  "language_info": {
   "codemirror_mode": {
    "name": "ipython",
    "version": 3
   },
   "file_extension": ".py",
   "mimetype": "text/x-python",
   "name": "python",
   "nbconvert_exporter": "python",
   "pygments_lexer": "ipython3",
   "version": "3.11.4"
  }
 },
 "nbformat": 4,
 "nbformat_minor": 5
}
